{
  "nbformat": 4,
  "nbformat_minor": 0,
  "metadata": {
    "colab": {
      "provenance": []
    },
    "kernelspec": {
      "name": "python3",
      "display_name": "Python 3"
    },
    "language_info": {
      "name": "python"
    }
  },
  "cells": [
    {
      "cell_type": "markdown",
      "source": [
        "**LOGISTIC REGRESSION MODEL FROM SCRATCH**"
      ],
      "metadata": {
        "id": "ccloVXG_V8M6"
      }
    },
    {
      "cell_type": "code",
      "execution_count": null,
      "metadata": {
        "id": "kUf6ErX3dxEJ"
      },
      "outputs": [],
      "source": [
        "import numpy as np"
      ]
    },
    {
      "cell_type": "code",
      "source": [
        "class Svm_Classifier():\n",
        "  def __init__(self,No_of_iteration,Learning_rate,lambda_parameter):\n",
        "\n",
        "    self.No_of_iteration = No_of_iteration\n",
        "    self.Learning_rate = Learning_rate\n",
        "    self.lambda_parameter = lambda_parameter\n",
        "\n",
        "  def fit(self,X,Y):\n",
        "\n",
        "    self.m,self.n = X.shape\n",
        "    self.w = np.zeros(self.m)\n",
        "    self.b = 0\n",
        "    self.X = X\n",
        "    self.Y = Y\n",
        "\n",
        "    for i in range(self.No_of_iteration):\n",
        "      self.Update_Weights()\n",
        "\n",
        "  def Update_Weights(self):\n",
        "\n",
        "    Y_prediction = self.predict(self.X)\n",
        "    dw = np.zeros(self.n)\n",
        "    for i in range(self.n):\n",
        "      if(self.w[i]>0):\n",
        "        dw[i]=(-(2*(self.X[:,i])).dot(self.Y-Y_prediction))+(self.lambda_parameter)/self.m\n",
        "      else:\n",
        "        dw[i]=(-(2*(self.X[:,i])).dot(self.Y-Y_prediction))-(self.lambda_parameter)/self.m\n",
        "\n",
        "    db = -2*np.sum(self.Y-Y_prediction)/self.m\n",
        "\n",
        "    self.w = self.w - self.No_of_iteration*dw\n",
        "    self.b = self.b - self.No_of_iteration*db\n",
        "\n",
        "  def predict(self,X):\n",
        "\n",
        "    return X.dot(self.w)+self.b"
      ],
      "metadata": {
        "id": "wgi_agWAd3W6"
      },
      "execution_count": null,
      "outputs": []
    },
    {
      "cell_type": "code",
      "source": [],
      "metadata": {
        "id": "LoituYRlh-b5"
      },
      "execution_count": null,
      "outputs": []
    }
  ]
}