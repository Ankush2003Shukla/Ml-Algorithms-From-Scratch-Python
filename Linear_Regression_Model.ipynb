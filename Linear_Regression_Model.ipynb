{
  "nbformat": 4,
  "nbformat_minor": 0,
  "metadata": {
    "colab": {
      "provenance": []
    },
    "kernelspec": {
      "name": "python3",
      "display_name": "Python 3"
    },
    "language_info": {
      "name": "python"
    }
  },
  "cells": [
    {
      "cell_type": "markdown",
      "source": [
        "**LINEAR REGRESSION MODEL FROM SCRATCH**"
      ],
      "metadata": {
        "id": "c2KLThK1W8WL"
      }
    },
    {
      "cell_type": "code",
      "execution_count": null,
      "metadata": {
        "id": "SsXK70iIgUgd"
      },
      "outputs": [],
      "source": [
        "import numpy as np"
      ]
    },
    {
      "cell_type": "code",
      "source": [
        "class Linear_Regression():\n",
        "  def __init__(self,No_of_iteration,Learning_rate):\n",
        "\n",
        "    self.No_of_iteration = No_of_iteration\n",
        "    self.Learning_rate = Learning_rate\n",
        "\n",
        "  def fit(self,X,Y):\n",
        "\n",
        "    self.m,self.n = X.shape\n",
        "    self.w = np.zeros(self.m)\n",
        "    self.b = 0\n",
        "    self.X = X\n",
        "    self.Y = Y\n",
        "\n",
        "    for i in range(self.No_of_iteration):\n",
        "      self.Update_Weights()\n",
        "\n",
        "  def Update_Weights(self):\n",
        "\n",
        "    Y_prediction = self.predict(self.X)\n",
        "\n",
        "    dw = -(2*(self.X.T).dot(self.Y-Y_prediction))/self.m\n",
        "\n",
        "    db = -2*np.sum(self.Y-Y_prediction)/self.m\n",
        "\n",
        "    self.w = self.w - self.No_of_iteration*dw\n",
        "    self.b = self.b - self.No_of_iteration*db\n",
        "\n",
        "  def predict(self,X):\n",
        "\n",
        "    Y_pred = X.dot(self.w)+self.b\n",
        "    return Y_pred\n"
      ],
      "metadata": {
        "id": "4PDsEbCQgciJ"
      },
      "execution_count": null,
      "outputs": []
    },
    {
      "cell_type": "code",
      "source": [],
      "metadata": {
        "id": "_2tWZm_0lOL-"
      },
      "execution_count": null,
      "outputs": []
    }
  ]
}